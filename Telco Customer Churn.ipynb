{
 "cells": [
  {
   "cell_type": "markdown",
   "metadata": {},
   "source": [
    "SMOTE\n",
    "Implement weights for Tree based algo\n",
    "Tune XGBoost\n"
   ]
  },
  {
   "cell_type": "code",
   "execution_count": 1,
   "metadata": {},
   "outputs": [],
   "source": [
    "import numpy as np\n",
    "import pandas as pd\n",
    "import matplotlib.pyplot as plt\n",
    "import seaborn as sns\n",
    "import datetime\n",
    "import warnings\n",
    "import scipy.stats\n",
    "from sklearn.feature_selection import SelectKBest\n",
    "from sklearn.feature_selection import chi2\n",
    "%matplotlib inline\n",
    "warnings.filterwarnings(\"ignore\")"
   ]
  },
  {
   "cell_type": "code",
   "execution_count": 2,
   "metadata": {},
   "outputs": [
    {
     "data": {
      "text/html": [
       "<div>\n",
       "<style scoped>\n",
       "    .dataframe tbody tr th:only-of-type {\n",
       "        vertical-align: middle;\n",
       "    }\n",
       "\n",
       "    .dataframe tbody tr th {\n",
       "        vertical-align: top;\n",
       "    }\n",
       "\n",
       "    .dataframe thead th {\n",
       "        text-align: right;\n",
       "    }\n",
       "</style>\n",
       "<table border=\"1\" class=\"dataframe\">\n",
       "  <thead>\n",
       "    <tr style=\"text-align: right;\">\n",
       "      <th></th>\n",
       "      <th>customerID</th>\n",
       "      <th>gender</th>\n",
       "      <th>SeniorCitizen</th>\n",
       "      <th>Partner</th>\n",
       "      <th>Dependents</th>\n",
       "      <th>tenure</th>\n",
       "      <th>PhoneService</th>\n",
       "      <th>MultipleLines</th>\n",
       "      <th>InternetService</th>\n",
       "      <th>OnlineSecurity</th>\n",
       "      <th>...</th>\n",
       "      <th>DeviceProtection</th>\n",
       "      <th>TechSupport</th>\n",
       "      <th>StreamingTV</th>\n",
       "      <th>StreamingMovies</th>\n",
       "      <th>Contract</th>\n",
       "      <th>PaperlessBilling</th>\n",
       "      <th>PaymentMethod</th>\n",
       "      <th>MonthlyCharges</th>\n",
       "      <th>TotalCharges</th>\n",
       "      <th>Churn</th>\n",
       "    </tr>\n",
       "  </thead>\n",
       "  <tbody>\n",
       "    <tr>\n",
       "      <th>0</th>\n",
       "      <td>7590-VHVEG</td>\n",
       "      <td>Female</td>\n",
       "      <td>0</td>\n",
       "      <td>Yes</td>\n",
       "      <td>No</td>\n",
       "      <td>1</td>\n",
       "      <td>No</td>\n",
       "      <td>No phone service</td>\n",
       "      <td>DSL</td>\n",
       "      <td>No</td>\n",
       "      <td>...</td>\n",
       "      <td>No</td>\n",
       "      <td>No</td>\n",
       "      <td>No</td>\n",
       "      <td>No</td>\n",
       "      <td>Month-to-month</td>\n",
       "      <td>Yes</td>\n",
       "      <td>Electronic check</td>\n",
       "      <td>29.85</td>\n",
       "      <td>29.85</td>\n",
       "      <td>No</td>\n",
       "    </tr>\n",
       "    <tr>\n",
       "      <th>1</th>\n",
       "      <td>5575-GNVDE</td>\n",
       "      <td>Male</td>\n",
       "      <td>0</td>\n",
       "      <td>No</td>\n",
       "      <td>No</td>\n",
       "      <td>34</td>\n",
       "      <td>Yes</td>\n",
       "      <td>No</td>\n",
       "      <td>DSL</td>\n",
       "      <td>Yes</td>\n",
       "      <td>...</td>\n",
       "      <td>Yes</td>\n",
       "      <td>No</td>\n",
       "      <td>No</td>\n",
       "      <td>No</td>\n",
       "      <td>One year</td>\n",
       "      <td>No</td>\n",
       "      <td>Mailed check</td>\n",
       "      <td>56.95</td>\n",
       "      <td>1889.5</td>\n",
       "      <td>No</td>\n",
       "    </tr>\n",
       "    <tr>\n",
       "      <th>2</th>\n",
       "      <td>3668-QPYBK</td>\n",
       "      <td>Male</td>\n",
       "      <td>0</td>\n",
       "      <td>No</td>\n",
       "      <td>No</td>\n",
       "      <td>2</td>\n",
       "      <td>Yes</td>\n",
       "      <td>No</td>\n",
       "      <td>DSL</td>\n",
       "      <td>Yes</td>\n",
       "      <td>...</td>\n",
       "      <td>No</td>\n",
       "      <td>No</td>\n",
       "      <td>No</td>\n",
       "      <td>No</td>\n",
       "      <td>Month-to-month</td>\n",
       "      <td>Yes</td>\n",
       "      <td>Mailed check</td>\n",
       "      <td>53.85</td>\n",
       "      <td>108.15</td>\n",
       "      <td>Yes</td>\n",
       "    </tr>\n",
       "    <tr>\n",
       "      <th>3</th>\n",
       "      <td>7795-CFOCW</td>\n",
       "      <td>Male</td>\n",
       "      <td>0</td>\n",
       "      <td>No</td>\n",
       "      <td>No</td>\n",
       "      <td>45</td>\n",
       "      <td>No</td>\n",
       "      <td>No phone service</td>\n",
       "      <td>DSL</td>\n",
       "      <td>Yes</td>\n",
       "      <td>...</td>\n",
       "      <td>Yes</td>\n",
       "      <td>Yes</td>\n",
       "      <td>No</td>\n",
       "      <td>No</td>\n",
       "      <td>One year</td>\n",
       "      <td>No</td>\n",
       "      <td>Bank transfer (automatic)</td>\n",
       "      <td>42.30</td>\n",
       "      <td>1840.75</td>\n",
       "      <td>No</td>\n",
       "    </tr>\n",
       "    <tr>\n",
       "      <th>4</th>\n",
       "      <td>9237-HQITU</td>\n",
       "      <td>Female</td>\n",
       "      <td>0</td>\n",
       "      <td>No</td>\n",
       "      <td>No</td>\n",
       "      <td>2</td>\n",
       "      <td>Yes</td>\n",
       "      <td>No</td>\n",
       "      <td>Fiber optic</td>\n",
       "      <td>No</td>\n",
       "      <td>...</td>\n",
       "      <td>No</td>\n",
       "      <td>No</td>\n",
       "      <td>No</td>\n",
       "      <td>No</td>\n",
       "      <td>Month-to-month</td>\n",
       "      <td>Yes</td>\n",
       "      <td>Electronic check</td>\n",
       "      <td>70.70</td>\n",
       "      <td>151.65</td>\n",
       "      <td>Yes</td>\n",
       "    </tr>\n",
       "  </tbody>\n",
       "</table>\n",
       "<p>5 rows × 21 columns</p>\n",
       "</div>"
      ],
      "text/plain": [
       "   customerID  gender  SeniorCitizen Partner Dependents  tenure PhoneService  \\\n",
       "0  7590-VHVEG  Female              0     Yes         No       1           No   \n",
       "1  5575-GNVDE    Male              0      No         No      34          Yes   \n",
       "2  3668-QPYBK    Male              0      No         No       2          Yes   \n",
       "3  7795-CFOCW    Male              0      No         No      45           No   \n",
       "4  9237-HQITU  Female              0      No         No       2          Yes   \n",
       "\n",
       "      MultipleLines InternetService OnlineSecurity  ...  DeviceProtection  \\\n",
       "0  No phone service             DSL             No  ...                No   \n",
       "1                No             DSL            Yes  ...               Yes   \n",
       "2                No             DSL            Yes  ...                No   \n",
       "3  No phone service             DSL            Yes  ...               Yes   \n",
       "4                No     Fiber optic             No  ...                No   \n",
       "\n",
       "  TechSupport StreamingTV StreamingMovies        Contract PaperlessBilling  \\\n",
       "0          No          No              No  Month-to-month              Yes   \n",
       "1          No          No              No        One year               No   \n",
       "2          No          No              No  Month-to-month              Yes   \n",
       "3         Yes          No              No        One year               No   \n",
       "4          No          No              No  Month-to-month              Yes   \n",
       "\n",
       "               PaymentMethod MonthlyCharges  TotalCharges Churn  \n",
       "0           Electronic check          29.85         29.85    No  \n",
       "1               Mailed check          56.95        1889.5    No  \n",
       "2               Mailed check          53.85        108.15   Yes  \n",
       "3  Bank transfer (automatic)          42.30       1840.75    No  \n",
       "4           Electronic check          70.70        151.65   Yes  \n",
       "\n",
       "[5 rows x 21 columns]"
      ]
     },
     "execution_count": 2,
     "metadata": {},
     "output_type": "execute_result"
    }
   ],
   "source": [
    "df = pd.read_csv(\"WA_Fn-UseC_-Telco-Customer-Churn.csv\")\n",
    "df.head()"
   ]
  },
  {
   "cell_type": "code",
   "execution_count": 3,
   "metadata": {},
   "outputs": [
    {
     "data": {
      "text/plain": [
       "(7043, 21)"
      ]
     },
     "execution_count": 3,
     "metadata": {},
     "output_type": "execute_result"
    }
   ],
   "source": [
    "#How many records and how many features we have ?\n",
    "df.shape"
   ]
  },
  {
   "cell_type": "code",
   "execution_count": 4,
   "metadata": {},
   "outputs": [
    {
     "data": {
      "text/plain": [
       "No     0.73463\n",
       "Yes    0.26537\n",
       "Name: Churn, dtype: float64"
      ]
     },
     "execution_count": 4,
     "metadata": {},
     "output_type": "execute_result"
    }
   ],
   "source": [
    "#Is the data balanced ? Answer is no, only 26.6 % of the records are of churning customers.\n",
    "df[\"Churn\"].value_counts(normalize = True)"
   ]
  },
  {
   "cell_type": "code",
   "execution_count": 5,
   "metadata": {},
   "outputs": [
    {
     "data": {
      "text/plain": [
       "customerID          0\n",
       "gender              0\n",
       "SeniorCitizen       0\n",
       "Partner             0\n",
       "Dependents          0\n",
       "tenure              0\n",
       "PhoneService        0\n",
       "MultipleLines       0\n",
       "InternetService     0\n",
       "OnlineSecurity      0\n",
       "OnlineBackup        0\n",
       "DeviceProtection    0\n",
       "TechSupport         0\n",
       "StreamingTV         0\n",
       "StreamingMovies     0\n",
       "Contract            0\n",
       "PaperlessBilling    0\n",
       "PaymentMethod       0\n",
       "MonthlyCharges      0\n",
       "TotalCharges        0\n",
       "Churn               0\n",
       "dtype: int64"
      ]
     },
     "execution_count": 5,
     "metadata": {},
     "output_type": "execute_result"
    }
   ],
   "source": [
    "#Do we have any null values ? Answer is No \n",
    "df.isnull().sum()"
   ]
  },
  {
   "cell_type": "code",
   "execution_count": 6,
   "metadata": {},
   "outputs": [
    {
     "data": {
      "text/plain": [
       "0"
      ]
     },
     "execution_count": 6,
     "metadata": {},
     "output_type": "execute_result"
    }
   ],
   "source": [
    "#Do we have multiple records of same customer ? - answer is no\n",
    "df.duplicated(\"customerID\").sum()"
   ]
  },
  {
   "cell_type": "markdown",
   "metadata": {},
   "source": [
    "In some datasets (especially for regression problems) having multiple records of same user can help us in using the user ID by transorming it to the mean/median of responsposne variable (Responde or Target Coding). Here it is not the case so CustomerID is not an useful feature."
   ]
  },
  {
   "cell_type": "code",
   "execution_count": 7,
   "metadata": {},
   "outputs": [
    {
     "data": {
      "text/plain": [
       "Male      0.504756\n",
       "Female    0.495244\n",
       "Name: gender, dtype: float64"
      ]
     },
     "execution_count": 7,
     "metadata": {},
     "output_type": "execute_result"
    }
   ],
   "source": [
    "df[\"gender\"].value_counts(normalize = True)"
   ]
  },
  {
   "cell_type": "markdown",
   "metadata": {},
   "source": [
    "Data has even distribution of Male and Females"
   ]
  },
  {
   "cell_type": "code",
   "execution_count": 8,
   "metadata": {},
   "outputs": [
    {
     "data": {
      "text/plain": [
       "<matplotlib.axes._subplots.AxesSubplot at 0x25997b31cc0>"
      ]
     },
     "execution_count": 8,
     "metadata": {},
     "output_type": "execute_result"
    },
    {
     "data": {
      "image/png": "[encoded data removed]",
      "text/plain": [
       "<matplotlib.figure.Figure at 0x25997b30c88>"
      ]
     },
     "metadata": {},
     "output_type": "display_data"
    }
   ],
   "source": [
    "pd.crosstab(df[\"gender\"],df[\"Churn\"]).plot(kind='bar')"
   ]
  },
  {
   "cell_type": "markdown",
   "metadata": {},
   "source": [
    "Gender does not seem to be an important feature, Churn percentage is almost the same in Males and Females"
   ]
  },
  {
   "cell_type": "code",
   "execution_count": 9,
   "metadata": {},
   "outputs": [
    {
     "name": "stdout",
     "output_type": "stream",
     "text": [
      "Dependents    No   Yes\n",
      "Partner               \n",
      "No          3280   361\n",
      "Yes         1653  1749\n"
     ]
    },
    {
     "data": {
      "text/plain": [
       "(1441.2452212367994, 0.0, 1, array([[2550.19920488, 1090.80079512],\n",
       "        [2382.80079512, 1019.19920488]]))"
      ]
     },
     "execution_count": 9,
     "metadata": {},
     "output_type": "execute_result"
    }
   ],
   "source": [
    "#Does not having a partner mean no depednents ?- answer is no but it is less likely to have dependents. \n",
    "#There can be dependents other than partner\n",
    "cont = pd.crosstab(df[\"Partner\"],df[\"Dependents\"])\n",
    "print(cont)\n",
    "scipy.stats.chi2_contingency(cont)"
   ]
  },
  {
   "cell_type": "code",
   "execution_count": 124,
   "metadata": {},
   "outputs": [
    {
     "name": "stdout",
     "output_type": "stream",
     "text": [
      "Churn         No   Yes\n",
      "Dependents            \n",
      "No          3390  1543\n",
      "Yes         1784   326\n"
     ]
    },
    {
     "data": {
      "text/plain": [
       "(189.12924940423474,\n",
       " 4.9249216612154196e-43,\n",
       " 1,\n",
       " array([[3623.93042737, 1309.06957263],\n",
       "        [1550.06957263,  559.93042737]]))"
      ]
     },
     "execution_count": 124,
     "metadata": {},
     "output_type": "execute_result"
    },
    {
     "data": {
      "image/png": "[encoded data removed]",
      "text/plain": [
       "<matplotlib.figure.Figure at 0x208f4642080>"
      ]
     },
     "metadata": {},
     "output_type": "display_data"
    }
   ],
   "source": [
    "#How important is the Dependents featur ?\n",
    "cont = pd.crosstab(df[\"Dependents\"], df[\"Churn\"])\n",
    "print(cont)\n",
    "pd.crosstab(df[\"Dependents\"], df[\"Churn\"]).plot(kind=\"bar\")\n",
    "scipy.stats.chi2_contingency(cont)"
   ]
  },
  {
   "cell_type": "markdown",
   "metadata": {},
   "source": [
    "Dependent seems to be imortant feature, customers with no dependents tend to churn more (around 31%)"
   ]
  },
  {
   "cell_type": "code",
   "execution_count": 10,
   "metadata": {},
   "outputs": [
    {
     "name": "stdout",
     "output_type": "stream",
     "text": [
      "Churn      No   Yes\n",
      "Partner            \n",
      "No       2441  1200\n",
      "Yes      2733   669\n"
     ]
    },
    {
     "data": {
      "text/plain": [
       "<matplotlib.axes._subplots.AxesSubplot at 0x25997966eb8>"
      ]
     },
     "execution_count": 10,
     "metadata": {},
     "output_type": "execute_result"
    },
    {
     "data": {
      "image/png": "[encoded data removed]",
      "text/plain": [
       "<matplotlib.figure.Figure at 0x259978feef0>"
      ]
     },
     "metadata": {},
     "output_type": "display_data"
    }
   ],
   "source": [
    "#How important is the Partner featur ?\n",
    "print(pd.crosstab(df[\"Partner\"], df[\"Churn\"]))\n",
    "pd.crosstab(df[\"Partner\"], df[\"Churn\"]).plot(kind=\"bar\")"
   ]
  },
  {
   "cell_type": "markdown",
   "metadata": {},
   "source": [
    "Partner feature is somewhat impoprtant, customers with no partner has slightly higher tendency to churn"
   ]
  },
  {
   "cell_type": "code",
   "execution_count": 11,
   "metadata": {},
   "outputs": [
    {
     "data": {
      "text/plain": [
       "0    5901\n",
       "1    1142\n",
       "Name: SeniorCitizen, dtype: int64"
      ]
     },
     "execution_count": 11,
     "metadata": {},
     "output_type": "execute_result"
    }
   ],
   "source": [
    "#How many senior citizens we have ?\n",
    "df[\"SeniorCitizen\"].value_counts()"
   ]
  },
  {
   "cell_type": "code",
   "execution_count": 12,
   "metadata": {},
   "outputs": [
    {
     "name": "stdout",
     "output_type": "stream",
     "text": [
      "Churn            No   Yes\n",
      "SeniorCitizen            \n",
      "0              4508  1393\n",
      "1               666   476\n"
     ]
    },
    {
     "data": {
      "text/plain": [
       "<matplotlib.axes._subplots.AxesSubplot at 0x25997a5ffd0>"
      ]
     },
     "execution_count": 12,
     "metadata": {},
     "output_type": "execute_result"
    },
    {
     "data": {
      "image/png": "[encoded data removed]",
      "text/plain": [
       "<matplotlib.figure.Figure at 0x25997a64048>"
      ]
     },
     "metadata": {},
     "output_type": "display_data"
    }
   ],
   "source": [
    "#How much churn is there in Senior Citizens ?\n",
    "print(pd.crosstab(df[\"SeniorCitizen\"], df[\"Churn\"]))\n",
    "pd.crosstab(df[\"SeniorCitizen\"], df[\"Churn\"]).plot(kind=\"bar\")"
   ]
  },
  {
   "cell_type": "markdown",
   "metadata": {},
   "source": [
    "This seems to be important parameter. Above results show that Senior citizen tend to churn more than non senior citizen. The percentage of churning in Senior citizen is around 40 % and in non senior citizen it is around 24 %"
   ]
  },
  {
   "cell_type": "code",
   "execution_count": 13,
   "metadata": {},
   "outputs": [
    {
     "data": {
      "text/plain": [
       "count    7043.000000\n",
       "mean       32.371149\n",
       "std        24.559481\n",
       "min         0.000000\n",
       "25%         9.000000\n",
       "50%        29.000000\n",
       "75%        55.000000\n",
       "max        72.000000\n",
       "Name: tenure, dtype: float64"
      ]
     },
     "execution_count": 13,
     "metadata": {},
     "output_type": "execute_result"
    }
   ],
   "source": [
    "#How is the tenure looking like? - highly dispersed, need to find out why min is zero, is that a bad data or a new customer\n",
    "df[\"tenure\"].describe()"
   ]
  },
  {
   "cell_type": "code",
   "execution_count": 14,
   "metadata": {},
   "outputs": [
    {
     "data": {
      "text/plain": [
       "customerID          11\n",
       "gender              11\n",
       "SeniorCitizen       11\n",
       "Partner             11\n",
       "Dependents          11\n",
       "tenure              11\n",
       "PhoneService        11\n",
       "MultipleLines       11\n",
       "InternetService     11\n",
       "OnlineSecurity      11\n",
       "OnlineBackup        11\n",
       "DeviceProtection    11\n",
       "TechSupport         11\n",
       "StreamingTV         11\n",
       "StreamingMovies     11\n",
       "Contract            11\n",
       "PaperlessBilling    11\n",
       "PaymentMethod       11\n",
       "MonthlyCharges      11\n",
       "TotalCharges        11\n",
       "Churn               11\n",
       "dtype: int64"
      ]
     },
     "execution_count": 14,
     "metadata": {},
     "output_type": "execute_result"
    }
   ],
   "source": [
    "#How many customers are having tenure = 0? answer is 11\n",
    "df[df[\"tenure\"] ==0].count()"
   ]
  },
  {
   "cell_type": "code",
   "execution_count": 15,
   "metadata": {},
   "outputs": [],
   "source": [
    "def univariatePlot(feature):\n",
    "    fig = plt.figure(figsize=(15,6))\n",
    "    ax1 = fig.add_subplot(121)\n",
    "    ax2 = fig.add_subplot(122)\n",
    "\n",
    "    g1=sns.FacetGrid(df, hue=\"Churn\", size=5) \\\n",
    "       .map(sns.distplot, feature, hist=False, kde=True,ax=ax1) \\\n",
    "       .add_legend();\n",
    "\n",
    "    sns.boxplot('Churn',feature,hue='Churn', data=df,ax=ax2)\n",
    "\n",
    "    plt.close(g1.fig)\n",
    "    plt.show()"
   ]
  },
  {
   "cell_type": "code",
   "execution_count": 16,
   "metadata": {},
   "outputs": [
    {
     "data": {
      "image/png": "[encoded data removed]",
      "text/plain": [
       "<matplotlib.figure.Figure at 0x25997b86a20>"
      ]
     },
     "metadata": {},
     "output_type": "display_data"
    }
   ],
   "source": [
    "#How is the distribution of tenure ?\n",
    "univariatePlot(\"tenure\")"
   ]
  },
  {
   "cell_type": "markdown",
   "metadata": {},
   "source": [
    "Tenure seems to be very important feature in predicting Churn. PDF shows that customers with tenure less than 20 months have high probability of leaving. As the tenure increases, the probability of churn goes down.\n",
    "Box plot shows that there is some overlap on the basis of tenure but there are very few customers having tenure more than 25-30 months leaving the telco"
   ]
  },
  {
   "cell_type": "code",
   "execution_count": 17,
   "metadata": {},
   "outputs": [
    {
     "name": "stdout",
     "output_type": "stream",
     "text": [
      "Churn           No   Yes\n",
      "PhoneService            \n",
      "No             512   170\n",
      "Yes           4662  1699\n"
     ]
    },
    {
     "data": {
      "text/plain": [
       "<matplotlib.axes._subplots.AxesSubplot at 0x259980f4630>"
      ]
     },
     "execution_count": 17,
     "metadata": {},
     "output_type": "execute_result"
    },
    {
     "data": {
      "image/png": "[encoded data removed]",
      "text/plain": [
       "<matplotlib.figure.Figure at 0x259980e1f60>"
      ]
     },
     "metadata": {},
     "output_type": "display_data"
    }
   ],
   "source": [
    "print(pd.crosstab(df[\"PhoneService\"], df[\"Churn\"]))\n",
    "pd.crosstab(df[\"PhoneService\"],df[\"Churn\"],normalize = True).plot(kind = \"bar\")"
   ]
  },
  {
   "cell_type": "markdown",
   "metadata": {},
   "source": [
    "Phone Service does not seem to be very important feature the proportion of churning customer is almost the same (24-26%) in customers with Phone Service and without Phone Service."
   ]
  },
  {
   "cell_type": "code",
   "execution_count": 18,
   "metadata": {},
   "outputs": [
    {
     "name": "stdout",
     "output_type": "stream",
     "text": [
      "Churn               No  Yes\n",
      "MultipleLines              \n",
      "No                2541  849\n",
      "No phone service   512  170\n",
      "Yes               2121  850\n"
     ]
    },
    {
     "data": {
      "text/plain": [
       "<matplotlib.axes._subplots.AxesSubplot at 0x259980dbfd0>"
      ]
     },
     "execution_count": 18,
     "metadata": {},
     "output_type": "execute_result"
    },
    {
     "data": {
      "image/png": "[encoded data removed]",
      "text/plain": [
       "<matplotlib.figure.Figure at 0x25998101160>"
      ]
     },
     "metadata": {},
     "output_type": "display_data"
    }
   ],
   "source": [
    "print(pd.crosstab(df[\"MultipleLines\"], df[\"Churn\"]))\n",
    "pd.crosstab(df[\"MultipleLines\"],df[\"Churn\"],normalize = True).plot(kind = \"bar\")"
   ]
  },
  {
   "cell_type": "markdown",
   "metadata": {},
   "source": [
    "MultipleLines does not seem to be very decisive feature from above results"
   ]
  },
  {
   "cell_type": "code",
   "execution_count": 19,
   "metadata": {},
   "outputs": [
    {
     "name": "stdout",
     "output_type": "stream",
     "text": [
      "Churn              No   Yes\n",
      "InternetService            \n",
      "DSL              1962   459\n",
      "Fiber optic      1799  1297\n",
      "No               1413   113\n"
     ]
    },
    {
     "data": {
      "text/plain": [
       "<matplotlib.axes._subplots.AxesSubplot at 0x25997c2e5f8>"
      ]
     },
     "execution_count": 19,
     "metadata": {},
     "output_type": "execute_result"
    },
    {
     "data": {
      "image/png": "[encoded data removed]",
      "text/plain": [
       "<matplotlib.figure.Figure at 0x25997f1cda0>"
      ]
     },
     "metadata": {},
     "output_type": "display_data"
    }
   ],
   "source": [
    "print(pd.crosstab(df[\"InternetService\"], df[\"Churn\"]))\n",
    "pd.crosstab(df[\"InternetService\"],df[\"Churn\"]).plot(kind = \"bar\")"
   ]
  },
  {
   "cell_type": "markdown",
   "metadata": {},
   "source": [
    "This seems to be very impoortant feature, customers with Fiber Optic service have higher churn. Maybe Finber Optic service \n",
    "is not as good as DSL "
   ]
  },
  {
   "cell_type": "code",
   "execution_count": 20,
   "metadata": {},
   "outputs": [
    {
     "data": {
      "text/plain": [
       "<matplotlib.axes._subplots.AxesSubplot at 0x25997fbbcc0>"
      ]
     },
     "execution_count": 20,
     "metadata": {},
     "output_type": "execute_result"
    },
    {
     "data": {
      "image/png": "[encoded data removed]",
      "text/plain": [
       "<matplotlib.figure.Figure at 0x25997fc8518>"
      ]
     },
     "metadata": {},
     "output_type": "display_data"
    }
   ],
   "source": [
    " pd.crosstab(df[\"OnlineSecurity\"],df[\"Churn\"]).plot(kind = \"bar\")"
   ]
  },
  {
   "cell_type": "code",
   "execution_count": 21,
   "metadata": {},
   "outputs": [
    {
     "data": {
      "text/html": [
       "<div>\n",
       "<style scoped>\n",
       "    .dataframe tbody tr th:only-of-type {\n",
       "        vertical-align: middle;\n",
       "    }\n",
       "\n",
       "    .dataframe tbody tr th {\n",
       "        vertical-align: top;\n",
       "    }\n",
       "\n",
       "    .dataframe thead th {\n",
       "        text-align: right;\n",
       "    }\n",
       "</style>\n",
       "<table border=\"1\" class=\"dataframe\">\n",
       "  <thead>\n",
       "    <tr style=\"text-align: right;\">\n",
       "      <th>Churn</th>\n",
       "      <th>No</th>\n",
       "      <th>Yes</th>\n",
       "    </tr>\n",
       "    <tr>\n",
       "      <th>OnlineSecurity</th>\n",
       "      <th></th>\n",
       "      <th></th>\n",
       "    </tr>\n",
       "  </thead>\n",
       "  <tbody>\n",
       "    <tr>\n",
       "      <th>No</th>\n",
       "      <td>2037</td>\n",
       "      <td>1461</td>\n",
       "    </tr>\n",
       "    <tr>\n",
       "      <th>No internet service</th>\n",
       "      <td>1413</td>\n",
       "      <td>113</td>\n",
       "    </tr>\n",
       "    <tr>\n",
       "      <th>Yes</th>\n",
       "      <td>1724</td>\n",
       "      <td>295</td>\n",
       "    </tr>\n",
       "  </tbody>\n",
       "</table>\n",
       "</div>"
      ],
      "text/plain": [
       "Churn                  No   Yes\n",
       "OnlineSecurity                 \n",
       "No                   2037  1461\n",
       "No internet service  1413   113\n",
       "Yes                  1724   295"
      ]
     },
     "execution_count": 21,
     "metadata": {},
     "output_type": "execute_result"
    }
   ],
   "source": [
    " pd.crosstab(df[\"OnlineSecurity\"],df[\"Churn\"])"
   ]
  },
  {
   "cell_type": "markdown",
   "metadata": {},
   "source": [
    "This is important observation, customers who have not opted for online security tend to churn more. The proportion of Churned customers is over 40% for customers who have not opted for oneline security. This makes OnelineSecurity an important feature for the classification model."
   ]
  },
  {
   "cell_type": "code",
   "execution_count": 22,
   "metadata": {},
   "outputs": [
    {
     "name": "stdout",
     "output_type": "stream",
     "text": [
      "Churn                  No   Yes\n",
      "DeviceProtection               \n",
      "No                   1884  1211\n",
      "No internet service  1413   113\n",
      "Yes                  1877   545\n"
     ]
    },
    {
     "data": {
      "image/png": "[encoded data removed]",
      "text/plain": [
       "<matplotlib.figure.Figure at 0x25997ff7b38>"
      ]
     },
     "metadata": {},
     "output_type": "display_data"
    }
   ],
   "source": [
    "pd.crosstab(df[\"DeviceProtection\"],df[\"Churn\"]).plot(kind = \"bar\")\n",
    "print(pd.crosstab(df[\"DeviceProtection\"],df[\"Churn\"]))"
   ]
  },
  {
   "cell_type": "markdown",
   "metadata": {},
   "source": [
    "Device Protection feature is also a good indicator because because alsmost 40% of the customers not opted for Device Protection have churned."
   ]
  },
  {
   "cell_type": "code",
   "execution_count": 24,
   "metadata": {},
   "outputs": [
    {
     "name": "stdout",
     "output_type": "stream",
     "text": [
      "Churn                  No   Yes\n",
      "TechSupport                    \n",
      "No                   2027  1446\n",
      "No internet service  1413   113\n",
      "Yes                  1734   310\n"
     ]
    },
    {
     "data": {
      "image/png": "[encoded data removed]",
      "text/plain": [
       "<matplotlib.figure.Figure at 0x1846a0edcf8>"
      ]
     },
     "metadata": {},
     "output_type": "display_data"
    }
   ],
   "source": [
    "pd.crosstab(df[\"TechSupport\"],df[\"Churn\"]).plot(kind = \"bar\")\n",
    "print(pd.crosstab(df[\"TechSupport\"],df[\"Churn\"]))"
   ]
  },
  {
   "cell_type": "markdown",
   "metadata": {},
   "source": [
    "Same story repeats for TechSupport. More sticky customers opt for customer support"
   ]
  },
  {
   "cell_type": "code",
   "execution_count": 23,
   "metadata": {},
   "outputs": [
    {
     "name": "stdout",
     "output_type": "stream",
     "text": [
      "Churn                  No  Yes\n",
      "StreamingTV                   \n",
      "No                   1868  942\n",
      "No internet service  1413  113\n",
      "Yes                  1893  814\n"
     ]
    },
    {
     "data": {
      "image/png": "[encoded data removed]",
      "text/plain": [
       "<matplotlib.figure.Figure at 0x25998025a20>"
      ]
     },
     "metadata": {},
     "output_type": "display_data"
    }
   ],
   "source": [
    "pd.crosstab(df[\"StreamingTV\"],df[\"Churn\"]).plot(kind = \"bar\")\n",
    "print(pd.crosstab(df[\"StreamingTV\"],df[\"Churn\"]))"
   ]
  },
  {
   "cell_type": "markdown",
   "metadata": {},
   "source": [
    "Streaming TV is not as strong indicator as previous two. Nearly 33% of customers not opted for Streaming TV have churned which is higher than the overal proportion of 26.5%. However customers who opted for Streaming TV have also demonstrated similar churning behavior (around 30%)"
   ]
  },
  {
   "cell_type": "code",
   "execution_count": 24,
   "metadata": {},
   "outputs": [
    {
     "name": "stdout",
     "output_type": "stream",
     "text": [
      "Churn                  No  Yes\n",
      "StreamingMovies               \n",
      "No                   1847  938\n",
      "No internet service  1413  113\n",
      "Yes                  1914  818\n"
     ]
    },
    {
     "data": {
      "image/png": "[encoded data removed]",
      "text/plain": [
       "<matplotlib.figure.Figure at 0x25997fd9dd8>"
      ]
     },
     "metadata": {},
     "output_type": "display_data"
    }
   ],
   "source": [
    "pd.crosstab(df[\"StreamingMovies\"],df[\"Churn\"]).plot(kind = \"bar\")\n",
    "print(pd.crosstab(df[\"StreamingMovies\"],df[\"Churn\"]))"
   ]
  },
  {
   "cell_type": "code",
   "execution_count": 25,
   "metadata": {},
   "outputs": [
    {
     "name": "stdout",
     "output_type": "stream",
     "text": [
      "Churn                  No   Yes\n",
      "OnlineBackup                   \n",
      "No                   1855  1233\n",
      "No internet service  1413   113\n",
      "Yes                  1906   523\n"
     ]
    },
    {
     "data": {
      "image/png": "[encoded data removed]",
      "text/plain": [
       "<matplotlib.figure.Figure at 0x259983506a0>"
      ]
     },
     "metadata": {},
     "output_type": "display_data"
    }
   ],
   "source": [
    "pd.crosstab(df[\"OnlineBackup\"],df[\"Churn\"]).plot(kind = \"bar\")\n",
    "print(pd.crosstab(df[\"OnlineBackup\"],df[\"Churn\"]))"
   ]
  },
  {
   "cell_type": "markdown",
   "metadata": {},
   "source": [
    "OnlineBackup seems to be important indicator, customers opted for OnlineBackup are less likely to churn"
   ]
  },
  {
   "cell_type": "code",
   "execution_count": 26,
   "metadata": {},
   "outputs": [
    {
     "name": "stdout",
     "output_type": "stream",
     "text": [
      "Churn             No   Yes\n",
      "Contract                  \n",
      "Month-to-month  2220  1655\n",
      "One year        1307   166\n",
      "Two year        1647    48\n"
     ]
    },
    {
     "data": {
      "image/png": "[encoded data removed]",
      "text/plain": [
       "<matplotlib.figure.Figure at 0x259983bed68>"
      ]
     },
     "metadata": {},
     "output_type": "display_data"
    }
   ],
   "source": [
    "pd.crosstab(df[\"Contract\"],df[\"Churn\"]).plot(kind = \"bar\")\n",
    "print(pd.crosstab(df[\"Contract\"],df[\"Churn\"]))"
   ]
  },
  {
   "cell_type": "markdown",
   "metadata": {},
   "source": [
    "As expected, Contract seems to be superuseful feature. Long term contact indicates sticky customers"
   ]
  },
  {
   "cell_type": "code",
   "execution_count": 27,
   "metadata": {},
   "outputs": [
    {
     "name": "stdout",
     "output_type": "stream",
     "text": [
      "Churn               No   Yes\n",
      "PaperlessBilling            \n",
      "No                2403   469\n",
      "Yes               2771  1400\n"
     ]
    },
    {
     "data": {
      "image/png": "[encoded data removed]",
      "text/plain": [
       "<matplotlib.figure.Figure at 0x259983fa6a0>"
      ]
     },
     "metadata": {},
     "output_type": "display_data"
    }
   ],
   "source": [
    "pd.crosstab(df[\"PaperlessBilling\"],df[\"Churn\"]).plot(kind = \"bar\")\n",
    "print(pd.crosstab(df[\"PaperlessBilling\"],df[\"Churn\"]))"
   ]
  },
  {
   "cell_type": "markdown",
   "metadata": {},
   "source": [
    "Cusotmers who have not opted for paperless billing demonstrating less churn. Logically, paperless billing should not be very \n",
    "decisive feature, this might be because Senior Citizens or long tenure customers not willing to move to paperless billing. Let's check our analysis.\n"
   ]
  },
  {
   "cell_type": "code",
   "execution_count": 28,
   "metadata": {},
   "outputs": [
    {
     "data": {
      "text/html": [
       "<div>\n",
       "<style scoped>\n",
       "    .dataframe tbody tr th:only-of-type {\n",
       "        vertical-align: middle;\n",
       "    }\n",
       "\n",
       "    .dataframe tbody tr th {\n",
       "        vertical-align: top;\n",
       "    }\n",
       "\n",
       "    .dataframe thead th {\n",
       "        text-align: right;\n",
       "    }\n",
       "</style>\n",
       "<table border=\"1\" class=\"dataframe\">\n",
       "  <thead>\n",
       "    <tr style=\"text-align: right;\">\n",
       "      <th>PaperlessBilling</th>\n",
       "      <th>No</th>\n",
       "      <th>Yes</th>\n",
       "    </tr>\n",
       "    <tr>\n",
       "      <th>SeniorCitizen</th>\n",
       "      <th></th>\n",
       "      <th></th>\n",
       "    </tr>\n",
       "  </thead>\n",
       "  <tbody>\n",
       "    <tr>\n",
       "      <th>0</th>\n",
       "      <td>2606</td>\n",
       "      <td>3295</td>\n",
       "    </tr>\n",
       "    <tr>\n",
       "      <th>1</th>\n",
       "      <td>266</td>\n",
       "      <td>876</td>\n",
       "    </tr>\n",
       "  </tbody>\n",
       "</table>\n",
       "</div>"
      ],
      "text/plain": [
       "PaperlessBilling    No   Yes\n",
       "SeniorCitizen               \n",
       "0                 2606  3295\n",
       "1                  266   876"
      ]
     },
     "execution_count": 28,
     "metadata": {},
     "output_type": "execute_result"
    }
   ],
   "source": [
    "pd.crosstab(df[\"SeniorCitizen\"],df[\"PaperlessBilling\"])"
   ]
  },
  {
   "cell_type": "code",
   "execution_count": 29,
   "metadata": {},
   "outputs": [
    {
     "data": {
      "text/plain": [
       "PaperlessBilling\n",
       "No     32.189067\n",
       "Yes    32.496524\n",
       "Name: tenure, dtype: float64"
      ]
     },
     "execution_count": 29,
     "metadata": {},
     "output_type": "execute_result"
    }
   ],
   "source": [
    "df.groupby(\"PaperlessBilling\").tenure.mean()"
   ]
  },
  {
   "cell_type": "markdown",
   "metadata": {},
   "source": [
    "Above results do not support our assumption, which makes PaperlessBiling important feature. Customers not opting for Paperless\n",
    "billing tend to churn less"
   ]
  },
  {
   "cell_type": "code",
   "execution_count": 30,
   "metadata": {},
   "outputs": [
    {
     "name": "stdout",
     "output_type": "stream",
     "text": [
      "Churn                        No   Yes\n",
      "PaymentMethod                        \n",
      "Bank transfer (automatic)  1286   258\n",
      "Credit card (automatic)    1290   232\n",
      "Electronic check           1294  1071\n",
      "Mailed check               1304   308\n"
     ]
    },
    {
     "data": {
      "image/png": "[encoded data removed]",
      "text/plain": [
       "<matplotlib.figure.Figure at 0x259983f4470>"
      ]
     },
     "metadata": {},
     "output_type": "display_data"
    }
   ],
   "source": [
    "pd.crosstab(df[\"PaymentMethod\"],df[\"Churn\"]).plot(kind = \"bar\")\n",
    "print(pd.crosstab(df[\"PaymentMethod\"],df[\"Churn\"]))"
   ]
  },
  {
   "cell_type": "markdown",
   "metadata": {},
   "source": [
    "Electronic check seems to be an indicator of Churn, over 45% of customers opted for Electronic check have churned. As expected, those opting for automatic payment methods stay longer with the Teloco. Mailed Check payment method also exhibit lower churn. My guess is again that most of these should be senior citizens. Let's check this for fun :)"
   ]
  },
  {
   "cell_type": "code",
   "execution_count": 31,
   "metadata": {},
   "outputs": [
    {
     "data": {
      "text/html": [
       "<div>\n",
       "<style scoped>\n",
       "    .dataframe tbody tr th:only-of-type {\n",
       "        vertical-align: middle;\n",
       "    }\n",
       "\n",
       "    .dataframe tbody tr th {\n",
       "        vertical-align: top;\n",
       "    }\n",
       "\n",
       "    .dataframe thead th {\n",
       "        text-align: right;\n",
       "    }\n",
       "</style>\n",
       "<table border=\"1\" class=\"dataframe\">\n",
       "  <thead>\n",
       "    <tr style=\"text-align: right;\">\n",
       "      <th>PaymentMethod</th>\n",
       "      <th>Bank transfer (automatic)</th>\n",
       "      <th>Credit card (automatic)</th>\n",
       "      <th>Electronic check</th>\n",
       "      <th>Mailed check</th>\n",
       "    </tr>\n",
       "    <tr>\n",
       "      <th>SeniorCitizen</th>\n",
       "      <th></th>\n",
       "      <th></th>\n",
       "      <th></th>\n",
       "      <th></th>\n",
       "    </tr>\n",
       "  </thead>\n",
       "  <tbody>\n",
       "    <tr>\n",
       "      <th>0</th>\n",
       "      <td>1311</td>\n",
       "      <td>1301</td>\n",
       "      <td>1771</td>\n",
       "      <td>1518</td>\n",
       "    </tr>\n",
       "    <tr>\n",
       "      <th>1</th>\n",
       "      <td>233</td>\n",
       "      <td>221</td>\n",
       "      <td>594</td>\n",
       "      <td>94</td>\n",
       "    </tr>\n",
       "  </tbody>\n",
       "</table>\n",
       "</div>"
      ],
      "text/plain": [
       "PaymentMethod  Bank transfer (automatic)  Credit card (automatic)  \\\n",
       "SeniorCitizen                                                       \n",
       "0                                   1311                     1301   \n",
       "1                                    233                      221   \n",
       "\n",
       "PaymentMethod  Electronic check  Mailed check  \n",
       "SeniorCitizen                                  \n",
       "0                          1771          1518  \n",
       "1                           594            94  "
      ]
     },
     "execution_count": 31,
     "metadata": {},
     "output_type": "execute_result"
    }
   ],
   "source": [
    "pd.crosstab(df[\"SeniorCitizen\"],df[\"PaymentMethod\"])"
   ]
  },
  {
   "cell_type": "markdown",
   "metadata": {},
   "source": [
    "Nope! My guess proved wrong :)"
   ]
  },
  {
   "cell_type": "code",
   "execution_count": 32,
   "metadata": {
    "scrolled": true
   },
   "outputs": [
    {
     "data": {
      "image/png": "[encoded data removed]",
      "text/plain": [
       "<matplotlib.figure.Figure at 0x25998403860>"
      ]
     },
     "metadata": {},
     "output_type": "display_data"
    }
   ],
   "source": [
    "univariatePlot(\"MonthlyCharges\")"
   ]
  },
  {
   "cell_type": "code",
   "execution_count": 33,
   "metadata": {},
   "outputs": [
    {
     "data": {
      "text/html": [
       "<div>\n",
       "<style scoped>\n",
       "    .dataframe tbody tr th:only-of-type {\n",
       "        vertical-align: middle;\n",
       "    }\n",
       "\n",
       "    .dataframe tbody tr th {\n",
       "        vertical-align: top;\n",
       "    }\n",
       "\n",
       "    .dataframe thead th {\n",
       "        text-align: right;\n",
       "    }\n",
       "</style>\n",
       "<table border=\"1\" class=\"dataframe\">\n",
       "  <thead>\n",
       "    <tr style=\"text-align: right;\">\n",
       "      <th></th>\n",
       "      <th>count</th>\n",
       "      <th>mean</th>\n",
       "      <th>std</th>\n",
       "      <th>min</th>\n",
       "      <th>25%</th>\n",
       "      <th>50%</th>\n",
       "      <th>75%</th>\n",
       "      <th>max</th>\n",
       "    </tr>\n",
       "    <tr>\n",
       "      <th>Churn</th>\n",
       "      <th></th>\n",
       "      <th></th>\n",
       "      <th></th>\n",
       "      <th></th>\n",
       "      <th></th>\n",
       "      <th></th>\n",
       "      <th></th>\n",
       "      <th></th>\n",
       "    </tr>\n",
       "  </thead>\n",
       "  <tbody>\n",
       "    <tr>\n",
       "      <th>No</th>\n",
       "      <td>5174.0</td>\n",
       "      <td>61.265124</td>\n",
       "      <td>31.092648</td>\n",
       "      <td>18.25</td>\n",
       "      <td>25.10</td>\n",
       "      <td>64.425</td>\n",
       "      <td>88.4</td>\n",
       "      <td>118.75</td>\n",
       "    </tr>\n",
       "    <tr>\n",
       "      <th>Yes</th>\n",
       "      <td>1869.0</td>\n",
       "      <td>74.441332</td>\n",
       "      <td>24.666053</td>\n",
       "      <td>18.85</td>\n",
       "      <td>56.15</td>\n",
       "      <td>79.650</td>\n",
       "      <td>94.2</td>\n",
       "      <td>118.35</td>\n",
       "    </tr>\n",
       "  </tbody>\n",
       "</table>\n",
       "</div>"
      ],
      "text/plain": [
       "        count       mean        std    min    25%     50%   75%     max\n",
       "Churn                                                                  \n",
       "No     5174.0  61.265124  31.092648  18.25  25.10  64.425  88.4  118.75\n",
       "Yes    1869.0  74.441332  24.666053  18.85  56.15  79.650  94.2  118.35"
      ]
     },
     "execution_count": 33,
     "metadata": {},
     "output_type": "execute_result"
    }
   ],
   "source": [
    "df.groupby(\"Churn\").MonthlyCharges.describe()"
   ]
  },
  {
   "cell_type": "markdown",
   "metadata": {},
   "source": [
    "Churning customers tend to have slightly higher MonthlyCharges. Probably higher monthly charges could be the reason behind the churn"
   ]
  },
  {
   "cell_type": "code",
   "execution_count": 34,
   "metadata": {},
   "outputs": [
    {
     "data": {
      "text/html": [
       "<div>\n",
       "<style scoped>\n",
       "    .dataframe tbody tr th:only-of-type {\n",
       "        vertical-align: middle;\n",
       "    }\n",
       "\n",
       "    .dataframe tbody tr th {\n",
       "        vertical-align: top;\n",
       "    }\n",
       "\n",
       "    .dataframe thead th {\n",
       "        text-align: right;\n",
       "    }\n",
       "</style>\n",
       "<table border=\"1\" class=\"dataframe\">\n",
       "  <thead>\n",
       "    <tr style=\"text-align: right;\">\n",
       "      <th></th>\n",
       "      <th>count</th>\n",
       "      <th>unique</th>\n",
       "      <th>top</th>\n",
       "      <th>freq</th>\n",
       "    </tr>\n",
       "    <tr>\n",
       "      <th>Churn</th>\n",
       "      <th></th>\n",
       "      <th></th>\n",
       "      <th></th>\n",
       "      <th></th>\n",
       "    </tr>\n",
       "  </thead>\n",
       "  <tbody>\n",
       "    <tr>\n",
       "      <th>No</th>\n",
       "      <td>5174</td>\n",
       "      <td>4966</td>\n",
       "      <td></td>\n",
       "      <td>11</td>\n",
       "    </tr>\n",
       "    <tr>\n",
       "      <th>Yes</th>\n",
       "      <td>1869</td>\n",
       "      <td>1732</td>\n",
       "      <td>20.2</td>\n",
       "      <td>6</td>\n",
       "    </tr>\n",
       "  </tbody>\n",
       "</table>\n",
       "</div>"
      ],
      "text/plain": [
       "      count unique   top freq\n",
       "Churn                        \n",
       "No     5174   4966         11\n",
       "Yes    1869   1732  20.2    6"
      ]
     },
     "execution_count": 34,
     "metadata": {},
     "output_type": "execute_result"
    }
   ],
   "source": [
    "df.groupby(\"Churn\").TotalCharges.describe()"
   ]
  },
  {
   "cell_type": "code",
   "execution_count": 35,
   "metadata": {},
   "outputs": [],
   "source": [
    "df[\"TotalCharges\"]= pd.to_numeric(df[\"TotalCharges\"],errors='coerce')"
   ]
  },
  {
   "cell_type": "code",
   "execution_count": 36,
   "metadata": {},
   "outputs": [
    {
     "data": {
      "image/png": "[encoded data removed]",
      "text/plain": [
       "<matplotlib.figure.Figure at 0x25998403208>"
      ]
     },
     "metadata": {},
     "output_type": "display_data"
    }
   ],
   "source": [
    "univariatePlot(\"TotalCharges\")"
   ]
  },
  {
   "cell_type": "code",
   "execution_count": 37,
   "metadata": {},
   "outputs": [
    {
     "data": {
      "text/html": [
       "<div>\n",
       "<style scoped>\n",
       "    .dataframe tbody tr th:only-of-type {\n",
       "        vertical-align: middle;\n",
       "    }\n",
       "\n",
       "    .dataframe tbody tr th {\n",
       "        vertical-align: top;\n",
       "    }\n",
       "\n",
       "    .dataframe thead th {\n",
       "        text-align: right;\n",
       "    }\n",
       "</style>\n",
       "<table border=\"1\" class=\"dataframe\">\n",
       "  <thead>\n",
       "    <tr style=\"text-align: right;\">\n",
       "      <th></th>\n",
       "      <th>count</th>\n",
       "      <th>mean</th>\n",
       "      <th>std</th>\n",
       "      <th>min</th>\n",
       "      <th>25%</th>\n",
       "      <th>50%</th>\n",
       "      <th>75%</th>\n",
       "      <th>max</th>\n",
       "    </tr>\n",
       "    <tr>\n",
       "      <th>Churn</th>\n",
       "      <th></th>\n",
       "      <th></th>\n",
       "      <th></th>\n",
       "      <th></th>\n",
       "      <th></th>\n",
       "      <th></th>\n",
       "      <th></th>\n",
       "      <th></th>\n",
       "    </tr>\n",
       "  </thead>\n",
       "  <tbody>\n",
       "    <tr>\n",
       "      <th>No</th>\n",
       "      <td>5163.0</td>\n",
       "      <td>2555.344141</td>\n",
       "      <td>2329.456984</td>\n",
       "      <td>18.80</td>\n",
       "      <td>577.825</td>\n",
       "      <td>1683.60</td>\n",
       "      <td>4264.125</td>\n",
       "      <td>8672.45</td>\n",
       "    </tr>\n",
       "    <tr>\n",
       "      <th>Yes</th>\n",
       "      <td>1869.0</td>\n",
       "      <td>1531.796094</td>\n",
       "      <td>1890.822994</td>\n",
       "      <td>18.85</td>\n",
       "      <td>134.500</td>\n",
       "      <td>703.55</td>\n",
       "      <td>2331.300</td>\n",
       "      <td>8684.80</td>\n",
       "    </tr>\n",
       "  </tbody>\n",
       "</table>\n",
       "</div>"
      ],
      "text/plain": [
       "        count         mean          std    min      25%      50%       75%  \\\n",
       "Churn                                                                        \n",
       "No     5163.0  2555.344141  2329.456984  18.80  577.825  1683.60  4264.125   \n",
       "Yes    1869.0  1531.796094  1890.822994  18.85  134.500   703.55  2331.300   \n",
       "\n",
       "           max  \n",
       "Churn           \n",
       "No     8672.45  \n",
       "Yes    8684.80  "
      ]
     },
     "execution_count": 37,
     "metadata": {},
     "output_type": "execute_result"
    }
   ],
   "source": [
    "df.groupby(\"Churn\").TotalCharges.describe()"
   ]
  },
  {
   "cell_type": "markdown",
   "metadata": {},
   "source": [
    "As expected, Customers having lower Total charges tend to churn more. This can be understood better if we take into account tenure. We earlier figured out that churning customers have lower tenure. Since total charges depend on product of tenure and MonthlyCharges, churning customers will have lower Total Charges. Let's analyze the coorrelation among numerical feature so that we can avoid highly collinear features in our dataset."
   ]
  },
  {
   "cell_type": "code",
   "execution_count": 38,
   "metadata": {},
   "outputs": [
    {
     "data": {
      "text/plain": [
       "0.8258804609332016"
      ]
     },
     "execution_count": 38,
     "metadata": {},
     "output_type": "execute_result"
    }
   ],
   "source": [
    "df[\"tenure\"].corr(df[\"TotalCharges\"])"
   ]
  },
  {
   "cell_type": "code",
   "execution_count": 39,
   "metadata": {},
   "outputs": [
    {
     "data": {
      "text/plain": [
       "0.6510648032262024"
      ]
     },
     "execution_count": 39,
     "metadata": {},
     "output_type": "execute_result"
    }
   ],
   "source": [
    "df[\"MonthlyCharges\"].corr(df[\"TotalCharges\"])"
   ]
  },
  {
   "cell_type": "code",
   "execution_count": 40,
   "metadata": {},
   "outputs": [
    {
     "data": {
      "text/plain": [
       "0.2478998562861499"
      ]
     },
     "execution_count": 40,
     "metadata": {},
     "output_type": "execute_result"
    }
   ],
   "source": [
    "df[\"tenure\"].corr(df[\"MonthlyCharges\"])"
   ]
  },
  {
   "cell_type": "markdown",
   "metadata": {},
   "source": [
    "Thus TotalCharges are highly correlated with tenure and MonthlyCharges. Therefore it is better to avoid Total Charges from the final feature list"
   ]
  },
  {
   "cell_type": "markdown",
   "metadata": {},
   "source": [
    "Okay, Let's summarize the analysis done so far. Let's classify all features in four categories Not important, important and Very important\n",
    "\n",
    "customerID -         Not Important\n",
    "\n",
    "gender   -           Not Important\n",
    "\n",
    "SeniorCitizen  -     Important\n",
    "\n",
    "Partner-             Important\n",
    "\n",
    "Dependents-          Important\n",
    "\n",
    "tenure-              Very Important\n",
    "\n",
    "PhoneService-        Not Important\n",
    "\n",
    "MultipleLines-       Not Important\n",
    "\n",
    "InternetService-     Very Important\n",
    "\n",
    "OnlineSecurity-      Very Important\n",
    "\n",
    "OnlineBackup -       Important\n",
    "\n",
    "DeviceProtection-    Important\n",
    "\n",
    "TechSupport-         Important\n",
    "\n",
    "StreamingTV -        Not Important      \n",
    "\n",
    "StreamingMovies -    Not Important\n",
    "\n",
    "Contract -           Very Important\n",
    "\n",
    "PaperlessBilling -   Important\n",
    "\n",
    "PaymentMethod  -     Important\n",
    "\n",
    "MonthlyCharges -     Important\n",
    "\n",
    "TotalCharges-        Not Important (Highly Correlated with Tenure and Monthly Charges)"
   ]
  },
  {
   "cell_type": "markdown",
   "metadata": {},
   "source": [
    "# Thus, out of 20 features,7 features are not important, 9 features are important and 4 features are very important"
   ]
  },
  {
   "cell_type": "code",
   "execution_count": 41,
   "metadata": {},
   "outputs": [
    {
     "name": "stdout",
     "output_type": "stream",
     "text": [
      "(7043, 13)\n",
      "(7043, 1)\n"
     ]
    }
   ],
   "source": [
    "feature_selection = 'imp'\n",
    "\n",
    "if (feature_selection == 'imp'):\n",
    "    x= df.loc[:,['SeniorCitizen','Partner','Dependents','tenure','InternetService','OnlineSecurity','OnlineBackup',\n",
    "            'DeviceProtection','TechSupport','Contract','PaperlessBilling','PaymentMethod','MonthlyCharges']]\n",
    "elif (feature_selection == 'vimp'):\n",
    "    x=df.loc[:,[\"tenure\",\"InternetService\",\"OnlineSecurity\",\"Contract\"]]\n",
    "elif (feature_selection == 'min'):\n",
    "    x=df.loc[:,[\"tenure\",\"InternetService\",\"Contract\"]]\n",
    "    \n",
    "    \n",
    "    \n",
    "y = df.loc[:,[\"Churn\"]]\n",
    "print(x.shape)\n",
    "print(y.shape)"
   ]
  },
  {
   "cell_type": "code",
   "execution_count": 40,
   "metadata": {},
   "outputs": [],
   "source": [
    "from sklearn.preprocessing import LabelEncoder\n",
    "lb = LabelEncoder()\n",
    "x['Dependents'] = lb.fit_transform(x['Dependents'])\n",
    "x['Partner'] = lb.fit_transform(x['Partner'])\n",
    "x['PaperlessBilling'] = lb.fit_transform(x['PaperlessBilling'])\n",
    "x['OnlineBackup'] = lb.fit_transform(x['OnlineBackup'])\n",
    "x['DeviceProtection'] = lb.fit_transform(x['DeviceProtection'])\n",
    "x['TechSupport'] = lb.fit_transform(x['TechSupport'])\n",
    "x['PaymentMethod'] = lb.fit_transform(x['PaymentMethod'])\n",
    "\n",
    "x['InternetService'] = lb.fit_transform(x['InternetService'])\n",
    "x['OnlineSecurity'] = lb.fit_transform(x['OnlineSecurity'])\n",
    "x['Contract'] = lb.fit_transform(x['Contract'])\n",
    "\n",
    "y =lb.fit_transform(y)"
   ]
  },
  {
   "cell_type": "code",
   "execution_count": 128,
   "metadata": {},
   "outputs": [
    {
     "name": "stdout",
     "output_type": "stream",
     "text": [
      "[ 134.352   82.412  133.036    9.821  551.612  230.087  191.303  523.304\n",
      " 1115.78   105.681   58.492]\n"
     ]
    }
   ],
   "source": [
    "features_x = x.loc[:,['SeniorCitizen','Partner','Dependents','InternetService','OnlineSecurity','OnlineBackup',\n",
    "            'DeviceProtection','TechSupport','Contract','PaperlessBilling','PaymentMethod']]\n",
    "features_y = y\n",
    "test = SelectKBest(score_func=chi2, k=7)\n",
    "fit = test.fit(features_x, features_y)\n",
    "np.set_printoptions(precision=3)\n",
    "print(fit.scores_)"
   ]
  },
  {
   "cell_type": "code",
   "execution_count": 217,
   "metadata": {},
   "outputs": [
    {
     "data": {
      "text/html": [
       "<div>\n",
       "<style scoped>\n",
       "    .dataframe tbody tr th:only-of-type {\n",
       "        vertical-align: middle;\n",
       "    }\n",
       "\n",
       "    .dataframe tbody tr th {\n",
       "        vertical-align: top;\n",
       "    }\n",
       "\n",
       "    .dataframe thead th {\n",
       "        text-align: right;\n",
       "    }\n",
       "</style>\n",
       "<table border=\"1\" class=\"dataframe\">\n",
       "  <thead>\n",
       "    <tr style=\"text-align: right;\">\n",
       "      <th></th>\n",
       "      <th>SeniorCitizen</th>\n",
       "      <th>Partner</th>\n",
       "      <th>Dependents</th>\n",
       "      <th>tenure</th>\n",
       "      <th>InternetService</th>\n",
       "      <th>OnlineSecurity</th>\n",
       "      <th>OnlineBackup</th>\n",
       "      <th>DeviceProtection</th>\n",
       "      <th>TechSupport</th>\n",
       "      <th>Contract</th>\n",
       "      <th>PaperlessBilling</th>\n",
       "      <th>PaymentMethod</th>\n",
       "      <th>MonthlyCharges</th>\n",
       "    </tr>\n",
       "  </thead>\n",
       "  <tbody>\n",
       "    <tr>\n",
       "      <th>0</th>\n",
       "      <td>0</td>\n",
       "      <td>1</td>\n",
       "      <td>0</td>\n",
       "      <td>1</td>\n",
       "      <td>0</td>\n",
       "      <td>0</td>\n",
       "      <td>2</td>\n",
       "      <td>0</td>\n",
       "      <td>0</td>\n",
       "      <td>0</td>\n",
       "      <td>1</td>\n",
       "      <td>2</td>\n",
       "      <td>29.85</td>\n",
       "    </tr>\n",
       "    <tr>\n",
       "      <th>1</th>\n",
       "      <td>0</td>\n",
       "      <td>0</td>\n",
       "      <td>0</td>\n",
       "      <td>34</td>\n",
       "      <td>0</td>\n",
       "      <td>2</td>\n",
       "      <td>0</td>\n",
       "      <td>2</td>\n",
       "      <td>0</td>\n",
       "      <td>1</td>\n",
       "      <td>0</td>\n",
       "      <td>3</td>\n",
       "      <td>56.95</td>\n",
       "    </tr>\n",
       "    <tr>\n",
       "      <th>2</th>\n",
       "      <td>0</td>\n",
       "      <td>0</td>\n",
       "      <td>0</td>\n",
       "      <td>2</td>\n",
       "      <td>0</td>\n",
       "      <td>2</td>\n",
       "      <td>2</td>\n",
       "      <td>0</td>\n",
       "      <td>0</td>\n",
       "      <td>0</td>\n",
       "      <td>1</td>\n",
       "      <td>3</td>\n",
       "      <td>53.85</td>\n",
       "    </tr>\n",
       "    <tr>\n",
       "      <th>3</th>\n",
       "      <td>0</td>\n",
       "      <td>0</td>\n",
       "      <td>0</td>\n",
       "      <td>45</td>\n",
       "      <td>0</td>\n",
       "      <td>2</td>\n",
       "      <td>0</td>\n",
       "      <td>2</td>\n",
       "      <td>2</td>\n",
       "      <td>1</td>\n",
       "      <td>0</td>\n",
       "      <td>0</td>\n",
       "      <td>42.30</td>\n",
       "    </tr>\n",
       "    <tr>\n",
       "      <th>4</th>\n",
       "      <td>0</td>\n",
       "      <td>0</td>\n",
       "      <td>0</td>\n",
       "      <td>2</td>\n",
       "      <td>1</td>\n",
       "      <td>0</td>\n",
       "      <td>0</td>\n",
       "      <td>0</td>\n",
       "      <td>0</td>\n",
       "      <td>0</td>\n",
       "      <td>1</td>\n",
       "      <td>2</td>\n",
       "      <td>70.70</td>\n",
       "    </tr>\n",
       "  </tbody>\n",
       "</table>\n",
       "</div>"
      ],
      "text/plain": [
       "   SeniorCitizen  Partner  Dependents  tenure  InternetService  \\\n",
       "0              0        1           0       1                0   \n",
       "1              0        0           0      34                0   \n",
       "2              0        0           0       2                0   \n",
       "3              0        0           0      45                0   \n",
       "4              0        0           0       2                1   \n",
       "\n",
       "   OnlineSecurity  OnlineBackup  DeviceProtection  TechSupport  Contract  \\\n",
       "0               0             2                 0            0         0   \n",
       "1               2             0                 2            0         1   \n",
       "2               2             2                 0            0         0   \n",
       "3               2             0                 2            2         1   \n",
       "4               0             0                 0            0         0   \n",
       "\n",
       "   PaperlessBilling  PaymentMethod  MonthlyCharges  \n",
       "0                 1              2           29.85  \n",
       "1                 0              3           56.95  \n",
       "2                 1              3           53.85  \n",
       "3                 0              0           42.30  \n",
       "4                 1              2           70.70  "
      ]
     },
     "execution_count": 217,
     "metadata": {},
     "output_type": "execute_result"
    }
   ],
   "source": [
    "x.head()"
   ]
  },
  {
   "cell_type": "code",
   "execution_count": 218,
   "metadata": {},
   "outputs": [
    {
     "name": "stdout",
     "output_type": "stream",
     "text": [
      "[0 0 1 ... 0 1 0]\n"
     ]
    }
   ],
   "source": [
    "print(y)"
   ]
  },
  {
   "cell_type": "code",
   "execution_count": 41,
   "metadata": {},
   "outputs": [],
   "source": [
    "from sklearn.model_selection import train_test_split\n",
    "x_train,x_test, y_train,y_test = train_test_split(x,y,test_size = 0.2,random_state = 7)"
   ]
  },
  {
   "cell_type": "code",
   "execution_count": 42,
   "metadata": {},
   "outputs": [
    {
     "name": "stdout",
     "output_type": "stream",
     "text": [
      "(5634, 13)\n",
      "(5634,)\n",
      "(1409, 13)\n",
      "(1409,)\n"
     ]
    }
   ],
   "source": [
    "print(x_train.shape)\n",
    "print(y_train.shape)\n",
    "print(x_test.shape)\n",
    "print(y_test.shape)"
   ]
  },
  {
   "cell_type": "code",
   "execution_count": 82,
   "metadata": {},
   "outputs": [
    {
     "data": {
      "text/plain": [
       "2338    72\n",
       "4705     6\n",
       "3514    60\n",
       "1549     1\n",
       "5757    28\n",
       "Name: tenure, dtype: int64"
      ]
     },
     "execution_count": 82,
     "metadata": {},
     "output_type": "execute_result"
    }
   ],
   "source": [
    "x_train[\"tenure\"].head()"
   ]
  },
  {
   "cell_type": "code",
   "execution_count": 11,
   "metadata": {},
   "outputs": [
    {
     "name": "stdout",
     "output_type": "stream",
     "text": [
      "2338    1.613062\n",
      "4705   -1.075464\n",
      "3514    1.124239\n",
      "1549   -1.279140\n",
      "5757   -0.179289\n",
      "Name: tenure, dtype: float64\n",
      "6632    0.071136\n",
      "3801   -0.579450\n",
      "901    -0.945405\n",
      "1487    0.965693\n",
      "1457    0.396430\n",
      "Name: tenure, dtype: float64\n"
     ]
    }
   ],
   "source": [
    "print(x_train[\"tenure\"].head())\n",
    "print(x_test[\"tenure\"].head())"
   ]
  },
  {
   "cell_type": "code",
   "execution_count": 84,
   "metadata": {},
   "outputs": [
    {
     "name": "stdout",
     "output_type": "stream",
     "text": [
      "[0 0 0 ... 0 0 0]\n",
      "[1 1 1 ... 0 0 1]\n"
     ]
    }
   ],
   "source": [
    "print(y_train)\n",
    "print(y_test)"
   ]
  },
  {
   "cell_type": "code",
   "execution_count": null,
   "metadata": {},
   "outputs": [],
   "source": [
    "from sklearn.ensemble import RandomForestClassifier\n",
    "from sklearn.pipeline import Pipeline\n",
    "from sklearn.tree import DecisionTreeClassifier\n",
    "from xgboost.sklearn import XGBClassifier\n",
    "from sklearn.ensemble import ExtraTreesClassifier\n",
    "from sklearn.model_selection import GridSearchCV\n",
    "\n",
    "param_leaf = [2, 3, 5]\n",
    "param_estimators = [250,300,400,500]\n",
    "param_split = [3,5,6,7]\n",
    "param_features = [0.1,0.2]\n",
    "# param_depth = [50,70,100,150,200]\n",
    "\n",
    "# model_tree = Pipeline([\n",
    "#             ('dt', DecisionTreeClassifier()),\n",
    "#              ('rf', RandomForestClassifier()),\n",
    "#              ('erf', ExtraTreesClassifier()),\n",
    "#     ])\n",
    "\n",
    "grid_params_en = [{ 'min_samples_leaf': param_leaf,\n",
    "                    \n",
    "                     'n_estimators':param_estimators,\n",
    "                    'min_samples_split': param_split,\n",
    "                     'max_features': param_features}]\n",
    "# grid_params_dt = [{ 'min_samples_leaf': param_leaf,\n",
    "#                     'max_depth': param_depth,\n",
    "#                     'min_samples_split': param_split,\n",
    "#                      'max_features': param_features}]\n",
    "\n",
    "# dt = DecisionTreeClassifier()\n",
    "rf = RandomForestClassifier()\n",
    "# erf = ExtraTreesClassifier()\n",
    "# gs_dt = GridSearchCV(estimator=dt, param_grid = grid_params_dt, scoring = 'roc_auc',cv = 10, n_jobs = -1)\n",
    "# gs_dt.fit(x_train, y_train)\n",
    "gs_rf = GridSearchCV(estimator=rf, param_grid = grid_params_en, scoring = 'roc_auc',cv = 10, n_jobs = -1)\n",
    "gs_rf.fit(x_train, y_train)\n",
    "# gs_erf = GridSearchCV(estimator=erf, param_grid = grid_params_en, scoring = 'roc_auc',cv = 10, n_jobs = -1)\n",
    "# gs_erf.fit(x_train, y_train)\n",
    "\n",
    "# print(\"For Decision Tree Best parameters are \", gs_dt.best_params_,\"Best score is \", gs_dt.best_score_ )\n",
    "print(\"For Random Forest  Best parameters are \", gs_rf.best_params_,\"Best score is \", gs_rf.best_score_ )\n",
    "# print(\"For Extra Tree Best parameters are \", gs_dt.best_params_,\"Best score is \", gs_dt.best_score_ )"
   ]
  },
  {
   "cell_type": "code",
   "execution_count": 15,
   "metadata": {},
   "outputs": [
    {
     "name": "stdout",
     "output_type": "stream",
     "text": [
      "For Random Forest  Best parameters are  {'max_features': 0.2, 'min_samples_leaf': 5, 'min_samples_split': 6, 'n_estimators': 500} Best score is  0.8437039517122952\n"
     ]
    }
   ],
   "source": [
    "print(\"For Random Forest  Best parameters are \", gs_rf.best_params_,\"Best score is \", gs_rf.best_score_ )"
   ]
  },
  {
   "cell_type": "code",
   "execution_count": 110,
   "metadata": {},
   "outputs": [
    {
     "name": "stdout",
     "output_type": "stream",
     "text": [
      "Random Forest Classfier Results with feature_selection =  min\n",
      "0.8190019891555682\n",
      "F1 =  0.6202393906420022\n",
      "Log-loss 0.5734185090603582\n"
     ]
    }
   ],
   "source": [
    "from sklearn.metrics import roc_auc_score\n",
    "from sklearn.metrics import f1_score\n",
    "from sklearn.metrics import log_loss\n",
    "rf = RandomForestClassifier(class_weight = 'balanced', max_features = 0.1,min_samples_leaf=3,min_samples_split = 3,n_estimators = 500)\n",
    "rf.fit(x_train, y_train)\n",
    "rf_predprob = rf.predict_proba(x_test)\n",
    "rf_pred = rf.predict(x_test)\n",
    "print(\"Random Forest Classfier Results with feature_selection = \", feature_selection)\n",
    "print(roc_auc_score(y_test,rf_predprob[:,1]))\n",
    "print(\"F1 = \", f1_score(y_test,rf_pred))\n",
    "print(\"Log-loss\", log_loss(y_test,rf_predprob))"
   ]
  },
  {
   "cell_type": "code",
   "execution_count": 111,
   "metadata": {},
   "outputs": [
    {
     "name": "stdout",
     "output_type": "stream",
     "text": [
      "Extra Trees Classfier Results with feature_selection =  min\n",
      "0.8198047194482869\n",
      "F1 =  0.6163391933815926\n",
      "Log-loss 0.5307982073151009\n"
     ]
    }
   ],
   "source": [
    "from sklearn.ensemble import ExtraTreesClassifier\n",
    "erf = ExtraTreesClassifier(class_weight = 'balanced', max_features = 0.1,min_samples_leaf=3,min_samples_split = 3,n_estimators = 500)\n",
    "erf.fit(x_train, y_train)\n",
    "erf_predprob = erf.predict_proba(x_test)\n",
    "erf_pred = erf.predict(x_test)\n",
    "print(\"Extra Trees Classfier Results with feature_selection = \", feature_selection)\n",
    "print(roc_auc_score(y_test,erf_predprob[:,1]))\n",
    "print(\"F1 = \", f1_score(y_test,erf_pred))\n",
    "print(\"Log-loss\", log_loss(y_test,erf_predprob))"
   ]
  },
  {
   "cell_type": "code",
   "execution_count": 112,
   "metadata": {},
   "outputs": [
    {
     "name": "stdout",
     "output_type": "stream",
     "text": [
      "Decision Tree Classfier Results with feature_selection =  min\n",
      "0.8190019891555682\n",
      "F1 =  0.6202393906420022\n",
      "Log-loss 0.5734185090603582\n"
     ]
    }
   ],
   "source": [
    "from sklearn.tree import DecisionTreeClassifier\n",
    "dt = DecisionTreeClassifier(class_weight = 'balanced', max_features = 0.1,min_samples_leaf=3,min_samples_split = 3)\n",
    "dt.fit(x_train, y_train)\n",
    "dt_predprob = rf.predict_proba(x_test)\n",
    "dt_pred = rf.predict(x_test)\n",
    "print(\"Decision Tree Classfier Results with feature_selection = \", feature_selection)\n",
    "print(roc_auc_score(y_test,dt_predprob[:,1]))\n",
    "print(\"F1 = \", f1_score(y_test,dt_pred))\n",
    "print(\"Log-loss\", log_loss(y_test,dt_predprob))"
   ]
  },
  {
   "cell_type": "code",
   "execution_count": 121,
   "metadata": {},
   "outputs": [
    {
     "name": "stdout",
     "output_type": "stream",
     "text": [
      "F1 =  0.5378151260504201\n"
     ]
    }
   ],
   "source": [
    "import os\n",
    "os.environ['KMP_DUPLICATE_LIB_OK']='True'\n",
    "from xgboost.sklearn import XGBClassifier\n",
    "depth =  [5, 6, 7, 8, 9, 10,12,15]\n",
    "estimators =  [5, 10, 50, 100, 200, 500, 1000]\n",
    "xg = XGBClassifier(max_depth = 500,n_estimators = 1000,verbosity=1 )\n",
    "parameters = {'max_depth':15, 'n_estimators':1000}\n",
    "#grid_XG_bow = GridSearchCV(XG_BOW, param_grid = parameters, scoring='roc_auc', cv=5)\n",
    "\n",
    "#grid_XG_bow.fit(vect_train, Y_train)\n",
    "#results = pd.DataFrame(grid_XG_bow.cv_results_)\n",
    "\n",
    "xg.fit(x_train, y_train)\n",
    "pred_xg = xg.predict(x_test)\n",
    "print(\"F1 = \", f1_score(y_test,pred_xg))\n",
    "# print(\"Best AUC Score is \",grid_XG_bow.best_score_)\n",
    "# print(\"Optimum valus of maximum tree depth and number of base estimators are\", grid_XG_bow.best_params_)\n"
   ]
  },
  {
   "cell_type": "code",
   "execution_count": 256,
   "metadata": {},
   "outputs": [],
   "source": [
    "x = pd.concat([x, pd.get_dummies(x['Dependents'], prefix='Dependents')], axis=1)\n",
    "x = pd.concat([x, pd.get_dummies(x['Partner'], prefix='Partner')], axis=1)\n",
    "\n",
    "x = pd.concat([x, pd.get_dummies(x['SeniorCitizen'], prefix='SeniorCitizen')], axis=1)\n",
    "\n",
    "x = pd.concat([x, pd.get_dummies(x['OnlineBackup'], prefix='OnlineBackup')], axis=1)\n",
    "x = pd.concat([x, pd.get_dummies(x['DeviceProtection'], prefix='DeviceProtection')], axis=1)\n",
    "x = pd.concat([x, pd.get_dummies(x['PaperlessBilling'], prefix='PaperlessBilling')], axis=1)\n",
    "x = pd.concat([x, pd.get_dummies(x['PaymentMethod'], prefix='PaymentMethod')], axis=1)\n",
    "x = pd.concat([x, pd.get_dummies(x['TechSupport'], prefix='TechSupport')], axis=1)\n",
    "x = pd.concat([x, pd.get_dummies(x['Contract'], prefix='Contract')], axis=1)\n",
    "x = pd.concat([x, pd.get_dummies(x['OnlineSecurity'], prefix='OnlineSecurity')], axis=1)\n",
    "x = pd.concat([x, pd.get_dummies(x['InternetService'], prefix='InternetService')], axis=1)\n",
    "\n",
    "x[\"tenure\"] = df[\"tenure\"]\n",
    "x[\"MonthlyCharges\"] = df[\"MonthlyCharges\"]\n"
   ]
  },
  {
   "cell_type": "code",
   "execution_count": 244,
   "metadata": {},
   "outputs": [
    {
     "data": {
      "text/html": [
       "<div>\n",
       "<style scoped>\n",
       "    .dataframe tbody tr th:only-of-type {\n",
       "        vertical-align: middle;\n",
       "    }\n",
       "\n",
       "    .dataframe tbody tr th {\n",
       "        vertical-align: top;\n",
       "    }\n",
       "\n",
       "    .dataframe thead th {\n",
       "        text-align: right;\n",
       "    }\n",
       "</style>\n",
       "<table border=\"1\" class=\"dataframe\">\n",
       "  <thead>\n",
       "    <tr style=\"text-align: right;\">\n",
       "      <th></th>\n",
       "      <th>SeniorCitizen</th>\n",
       "      <th>Partner</th>\n",
       "      <th>Dependents</th>\n",
       "      <th>tenure</th>\n",
       "      <th>InternetService</th>\n",
       "      <th>OnlineSecurity</th>\n",
       "      <th>OnlineBackup</th>\n",
       "      <th>DeviceProtection</th>\n",
       "      <th>TechSupport</th>\n",
       "      <th>Contract</th>\n",
       "      <th>...</th>\n",
       "      <th>TechSupport_2</th>\n",
       "      <th>Contract_0</th>\n",
       "      <th>Contract_1</th>\n",
       "      <th>Contract_2</th>\n",
       "      <th>OnlineSecurity_0</th>\n",
       "      <th>OnlineSecurity_1</th>\n",
       "      <th>OnlineSecurity_2</th>\n",
       "      <th>InternetService_0</th>\n",
       "      <th>InternetService_1</th>\n",
       "      <th>InternetService_2</th>\n",
       "    </tr>\n",
       "  </thead>\n",
       "  <tbody>\n",
       "    <tr>\n",
       "      <th>0</th>\n",
       "      <td>0</td>\n",
       "      <td>1</td>\n",
       "      <td>0</td>\n",
       "      <td>1</td>\n",
       "      <td>0</td>\n",
       "      <td>0</td>\n",
       "      <td>2</td>\n",
       "      <td>0</td>\n",
       "      <td>0</td>\n",
       "      <td>0</td>\n",
       "      <td>...</td>\n",
       "      <td>0</td>\n",
       "      <td>1</td>\n",
       "      <td>0</td>\n",
       "      <td>0</td>\n",
       "      <td>1</td>\n",
       "      <td>0</td>\n",
       "      <td>0</td>\n",
       "      <td>1</td>\n",
       "      <td>0</td>\n",
       "      <td>0</td>\n",
       "    </tr>\n",
       "    <tr>\n",
       "      <th>1</th>\n",
       "      <td>0</td>\n",
       "      <td>0</td>\n",
       "      <td>0</td>\n",
       "      <td>34</td>\n",
       "      <td>0</td>\n",
       "      <td>2</td>\n",
       "      <td>0</td>\n",
       "      <td>2</td>\n",
       "      <td>0</td>\n",
       "      <td>1</td>\n",
       "      <td>...</td>\n",
       "      <td>0</td>\n",
       "      <td>0</td>\n",
       "      <td>1</td>\n",
       "      <td>0</td>\n",
       "      <td>0</td>\n",
       "      <td>0</td>\n",
       "      <td>1</td>\n",
       "      <td>1</td>\n",
       "      <td>0</td>\n",
       "      <td>0</td>\n",
       "    </tr>\n",
       "    <tr>\n",
       "      <th>2</th>\n",
       "      <td>0</td>\n",
       "      <td>0</td>\n",
       "      <td>0</td>\n",
       "      <td>2</td>\n",
       "      <td>0</td>\n",
       "      <td>2</td>\n",
       "      <td>2</td>\n",
       "      <td>0</td>\n",
       "      <td>0</td>\n",
       "      <td>0</td>\n",
       "      <td>...</td>\n",
       "      <td>0</td>\n",
       "      <td>1</td>\n",
       "      <td>0</td>\n",
       "      <td>0</td>\n",
       "      <td>0</td>\n",
       "      <td>0</td>\n",
       "      <td>1</td>\n",
       "      <td>1</td>\n",
       "      <td>0</td>\n",
       "      <td>0</td>\n",
       "    </tr>\n",
       "  </tbody>\n",
       "</table>\n",
       "<p>3 rows × 43 columns</p>\n",
       "</div>"
      ],
      "text/plain": [
       "   SeniorCitizen  Partner  Dependents  tenure  InternetService  \\\n",
       "0              0        1           0       1                0   \n",
       "1              0        0           0      34                0   \n",
       "2              0        0           0       2                0   \n",
       "\n",
       "   OnlineSecurity  OnlineBackup  DeviceProtection  TechSupport  Contract  \\\n",
       "0               0             2                 0            0         0   \n",
       "1               2             0                 2            0         1   \n",
       "2               2             2                 0            0         0   \n",
       "\n",
       "         ...          TechSupport_2  Contract_0  Contract_1  Contract_2  \\\n",
       "0        ...                      0           1           0           0   \n",
       "1        ...                      0           0           1           0   \n",
       "2        ...                      0           1           0           0   \n",
       "\n",
       "   OnlineSecurity_0  OnlineSecurity_1  OnlineSecurity_2  InternetService_0  \\\n",
       "0                 1                 0                 0                  1   \n",
       "1                 0                 0                 1                  1   \n",
       "2                 0                 0                 1                  1   \n",
       "\n",
       "   InternetService_1  InternetService_2  \n",
       "0                  0                  0  \n",
       "1                  0                  0  \n",
       "2                  0                  0  \n",
       "\n",
       "[3 rows x 43 columns]"
      ]
     },
     "execution_count": 244,
     "metadata": {},
     "output_type": "execute_result"
    }
   ],
   "source": [
    "x.head(3)"
   ]
  },
  {
   "cell_type": "code",
   "execution_count": 257,
   "metadata": {},
   "outputs": [],
   "source": [
    "if feature_selection == \"imp\":\n",
    "    x.drop(columns = ['Dependents','Partner','InternetService','SeniorCitizen','OnlineSecurity','OnlineBackup','DeviceProtection',\n",
    "                 'TechSupport','Contract','PaperlessBilling','PaymentMethod'],inplace = True)\n",
    "elif feature_selection == \"vimp\":\n",
    "     x.drop(columns = ['InternetService','OnlineSecurity'\n",
    "                     ,'Contract',\"MonthlyCharges\"],inplace = True)"
   ]
  },
  {
   "cell_type": "code",
   "execution_count": 258,
   "metadata": {},
   "outputs": [
    {
     "data": {
      "text/html": [
       "<div>\n",
       "<style scoped>\n",
       "    .dataframe tbody tr th:only-of-type {\n",
       "        vertical-align: middle;\n",
       "    }\n",
       "\n",
       "    .dataframe tbody tr th {\n",
       "        vertical-align: top;\n",
       "    }\n",
       "\n",
       "    .dataframe thead th {\n",
       "        text-align: right;\n",
       "    }\n",
       "</style>\n",
       "<table border=\"1\" class=\"dataframe\">\n",
       "  <thead>\n",
       "    <tr style=\"text-align: right;\">\n",
       "      <th></th>\n",
       "      <th>tenure</th>\n",
       "      <th>MonthlyCharges</th>\n",
       "      <th>Dependents_0</th>\n",
       "      <th>Dependents_1</th>\n",
       "      <th>Partner_0</th>\n",
       "      <th>Partner_1</th>\n",
       "      <th>SeniorCitizen_0</th>\n",
       "      <th>SeniorCitizen_1</th>\n",
       "      <th>OnlineBackup_0</th>\n",
       "      <th>OnlineBackup_1</th>\n",
       "      <th>...</th>\n",
       "      <th>TechSupport_2</th>\n",
       "      <th>Contract_0</th>\n",
       "      <th>Contract_1</th>\n",
       "      <th>Contract_2</th>\n",
       "      <th>OnlineSecurity_0</th>\n",
       "      <th>OnlineSecurity_1</th>\n",
       "      <th>OnlineSecurity_2</th>\n",
       "      <th>InternetService_0</th>\n",
       "      <th>InternetService_1</th>\n",
       "      <th>InternetService_2</th>\n",
       "    </tr>\n",
       "  </thead>\n",
       "  <tbody>\n",
       "    <tr>\n",
       "      <th>0</th>\n",
       "      <td>1</td>\n",
       "      <td>29.85</td>\n",
       "      <td>1</td>\n",
       "      <td>0</td>\n",
       "      <td>0</td>\n",
       "      <td>1</td>\n",
       "      <td>1</td>\n",
       "      <td>0</td>\n",
       "      <td>0</td>\n",
       "      <td>0</td>\n",
       "      <td>...</td>\n",
       "      <td>0</td>\n",
       "      <td>1</td>\n",
       "      <td>0</td>\n",
       "      <td>0</td>\n",
       "      <td>1</td>\n",
       "      <td>0</td>\n",
       "      <td>0</td>\n",
       "      <td>1</td>\n",
       "      <td>0</td>\n",
       "      <td>0</td>\n",
       "    </tr>\n",
       "    <tr>\n",
       "      <th>1</th>\n",
       "      <td>34</td>\n",
       "      <td>56.95</td>\n",
       "      <td>1</td>\n",
       "      <td>0</td>\n",
       "      <td>1</td>\n",
       "      <td>0</td>\n",
       "      <td>1</td>\n",
       "      <td>0</td>\n",
       "      <td>1</td>\n",
       "      <td>0</td>\n",
       "      <td>...</td>\n",
       "      <td>0</td>\n",
       "      <td>0</td>\n",
       "      <td>1</td>\n",
       "      <td>0</td>\n",
       "      <td>0</td>\n",
       "      <td>0</td>\n",
       "      <td>1</td>\n",
       "      <td>1</td>\n",
       "      <td>0</td>\n",
       "      <td>0</td>\n",
       "    </tr>\n",
       "    <tr>\n",
       "      <th>2</th>\n",
       "      <td>2</td>\n",
       "      <td>53.85</td>\n",
       "      <td>1</td>\n",
       "      <td>0</td>\n",
       "      <td>1</td>\n",
       "      <td>0</td>\n",
       "      <td>1</td>\n",
       "      <td>0</td>\n",
       "      <td>0</td>\n",
       "      <td>0</td>\n",
       "      <td>...</td>\n",
       "      <td>0</td>\n",
       "      <td>1</td>\n",
       "      <td>0</td>\n",
       "      <td>0</td>\n",
       "      <td>0</td>\n",
       "      <td>0</td>\n",
       "      <td>1</td>\n",
       "      <td>1</td>\n",
       "      <td>0</td>\n",
       "      <td>0</td>\n",
       "    </tr>\n",
       "    <tr>\n",
       "      <th>3</th>\n",
       "      <td>45</td>\n",
       "      <td>42.30</td>\n",
       "      <td>1</td>\n",
       "      <td>0</td>\n",
       "      <td>1</td>\n",
       "      <td>0</td>\n",
       "      <td>1</td>\n",
       "      <td>0</td>\n",
       "      <td>1</td>\n",
       "      <td>0</td>\n",
       "      <td>...</td>\n",
       "      <td>1</td>\n",
       "      <td>0</td>\n",
       "      <td>1</td>\n",
       "      <td>0</td>\n",
       "      <td>0</td>\n",
       "      <td>0</td>\n",
       "      <td>1</td>\n",
       "      <td>1</td>\n",
       "      <td>0</td>\n",
       "      <td>0</td>\n",
       "    </tr>\n",
       "    <tr>\n",
       "      <th>4</th>\n",
       "      <td>2</td>\n",
       "      <td>70.70</td>\n",
       "      <td>1</td>\n",
       "      <td>0</td>\n",
       "      <td>1</td>\n",
       "      <td>0</td>\n",
       "      <td>1</td>\n",
       "      <td>0</td>\n",
       "      <td>1</td>\n",
       "      <td>0</td>\n",
       "      <td>...</td>\n",
       "      <td>0</td>\n",
       "      <td>1</td>\n",
       "      <td>0</td>\n",
       "      <td>0</td>\n",
       "      <td>1</td>\n",
       "      <td>0</td>\n",
       "      <td>0</td>\n",
       "      <td>0</td>\n",
       "      <td>1</td>\n",
       "      <td>0</td>\n",
       "    </tr>\n",
       "  </tbody>\n",
       "</table>\n",
       "<p>5 rows × 32 columns</p>\n",
       "</div>"
      ],
      "text/plain": [
       "   tenure  MonthlyCharges  Dependents_0  Dependents_1  Partner_0  Partner_1  \\\n",
       "0       1           29.85             1             0          0          1   \n",
       "1      34           56.95             1             0          1          0   \n",
       "2       2           53.85             1             0          1          0   \n",
       "3      45           42.30             1             0          1          0   \n",
       "4       2           70.70             1             0          1          0   \n",
       "\n",
       "   SeniorCitizen_0  SeniorCitizen_1  OnlineBackup_0  OnlineBackup_1  \\\n",
       "0                1                0               0               0   \n",
       "1                1                0               1               0   \n",
       "2                1                0               0               0   \n",
       "3                1                0               1               0   \n",
       "4                1                0               1               0   \n",
       "\n",
       "         ...          TechSupport_2  Contract_0  Contract_1  Contract_2  \\\n",
       "0        ...                      0           1           0           0   \n",
       "1        ...                      0           0           1           0   \n",
       "2        ...                      0           1           0           0   \n",
       "3        ...                      1           0           1           0   \n",
       "4        ...                      0           1           0           0   \n",
       "\n",
       "   OnlineSecurity_0  OnlineSecurity_1  OnlineSecurity_2  InternetService_0  \\\n",
       "0                 1                 0                 0                  1   \n",
       "1                 0                 0                 1                  1   \n",
       "2                 0                 0                 1                  1   \n",
       "3                 0                 0                 1                  1   \n",
       "4                 1                 0                 0                  0   \n",
       "\n",
       "   InternetService_1  InternetService_2  \n",
       "0                  0                  0  \n",
       "1                  0                  0  \n",
       "2                  0                  0  \n",
       "3                  0                  0  \n",
       "4                  1                  0  \n",
       "\n",
       "[5 rows x 32 columns]"
      ]
     },
     "execution_count": 258,
     "metadata": {},
     "output_type": "execute_result"
    }
   ],
   "source": [
    "x.head()"
   ]
  },
  {
   "cell_type": "code",
   "execution_count": 259,
   "metadata": {},
   "outputs": [],
   "source": [
    "from sklearn.model_selection import train_test_split\n",
    "x_train,x_test, y_train,y_test = train_test_split(x,y,test_size = 0.2,random_state = 7)"
   ]
  },
  {
   "cell_type": "code",
   "execution_count": 260,
   "metadata": {},
   "outputs": [],
   "source": [
    "from sklearn.preprocessing import StandardScaler\n",
    "def scaling(data):\n",
    "    data_copy= data.copy()\n",
    "    if feature_selection == \"imp\" :\n",
    "        col_names = [\"tenure\",\"MonthlyCharges\"]\n",
    "    elif feature_selection == \"vimp\" :\n",
    "        col_names = [\"tenure\"]\n",
    "    features = data_copy[col_names]\n",
    "    scaler = StandardScaler().fit(features.values)\n",
    "    features = scaler.transform(features.values)\n",
    "    data_copy[col_names] = features\n",
    "    if feature_selection == \"imp\" :\n",
    "        data[\"tenure\"] = data_copy.tenure\n",
    "        data[\"MonthlyCharges\"] = data_copy.MonthlyCharges\n",
    "    elif feature_selection == \"vimp\" :\n",
    "        data[\"tenure\"] = data_copy.tenure\n",
    "    return data\n",
    "x_train = scaling(x_train)\n",
    "x_test = scaling(x_test)"
   ]
  },
  {
   "cell_type": "code",
   "execution_count": 261,
   "metadata": {},
   "outputs": [
    {
     "name": "stdout",
     "output_type": "stream",
     "text": [
      "(5634, 32)\n",
      "(1409, 32)\n"
     ]
    }
   ],
   "source": [
    "print(x_train.shape)\n",
    "print(x_test.shape)"
   ]
  },
  {
   "cell_type": "code",
   "execution_count": 263,
   "metadata": {},
   "outputs": [
    {
     "name": "stdout",
     "output_type": "stream",
     "text": [
      "Test AUC 0.8476465866292395\n",
      "Train AUC 0.8415287761684117\n",
      "F1 =  0.6382536382536382\n",
      "Log-loss 0.48531970627301624\n",
      "              precision    recall  f1-score   support\n",
      "\n",
      "           0       0.90      0.74      0.81      1021\n",
      "           1       0.53      0.79      0.64       388\n",
      "\n",
      "    accuracy                           0.75      1409\n",
      "   macro avg       0.72      0.76      0.73      1409\n",
      "weighted avg       0.80      0.75      0.76      1409\n",
      "\n",
      "0.7530163236337828\n"
     ]
    }
   ],
   "source": [
    "from sklearn import linear_model\n",
    "from sklearn.metrics import classification_report\n",
    "from sklearn.metrics import accuracy_score\n",
    "from sklearn.linear_model import LogisticRegression\n",
    "lr = LogisticRegression(penalty = 'l1',C = 10,max_iter=500,class_weight = 'balanced')\n",
    "lr.fit(x_train,y_train)\n",
    "lr_predprob = lr.predict_proba(x_test)\n",
    "lr_pred = lr.predict(x_test)\n",
    "lr_pred_train = lr.predict(x_train)\n",
    "lr_predprob_train =  lr.predict_proba(x_train)\n",
    "print(\"Test AUC\", roc_auc_score(y_test,lr_predprob[:,1]))\n",
    "print(\"Train AUC\", roc_auc_score(y_train,lr_predprob_train[:,1]))\n",
    "print(\"F1 = \", f1_score(y_test,lr_pred))\n",
    "print(\"Log-loss\", log_loss(y_test,lr_predprob))\n",
    "print(classification_report(y_test,lr_pred))\n",
    "print(accuracy_score(y_test,lr_pred))"
   ]
  },
  {
   "cell_type": "markdown",
   "metadata": {},
   "source": [
    "https://www.kaggle.com/lct14558/imbalanced-data-why-you-should-not-use-roc-curve"
   ]
  },
  {
   "cell_type": "code",
   "execution_count": 265,
   "metadata": {},
   "outputs": [
    {
     "name": "stdout",
     "output_type": "stream",
     "text": [
      "---Weight of 2 for Churned Customers---\n",
      "              precision    recall  f1-score   support\n",
      "\n",
      "           0       0.89      0.80      0.84      1021\n",
      "           1       0.59      0.73      0.65       388\n",
      "\n",
      "    accuracy                           0.78      1409\n",
      "   macro avg       0.74      0.77      0.75      1409\n",
      "weighted avg       0.80      0.78      0.79      1409\n",
      "\n",
      "F1 =  0.6513761467889907\n",
      "Log-loss 0.4466545542546281\n",
      "---Weight of 3 for Churned Customers---\n",
      "              precision    recall  f1-score   support\n",
      "\n",
      "           0       0.90      0.73      0.81      1021\n",
      "           1       0.53      0.80      0.64       388\n",
      "\n",
      "    accuracy                           0.75      1409\n",
      "   macro avg       0.72      0.76      0.72      1409\n",
      "weighted avg       0.80      0.75      0.76      1409\n",
      "\n",
      "F1 =  0.6352459016393442\n",
      "Log-loss 0.4951867203721177\n",
      "---Weight of 4 for Churned Customers---\n",
      "              precision    recall  f1-score   support\n",
      "\n",
      "           0       0.92      0.66      0.77      1021\n",
      "           1       0.49      0.84      0.62       388\n",
      "\n",
      "    accuracy                           0.71      1409\n",
      "   macro avg       0.70      0.75      0.69      1409\n",
      "weighted avg       0.80      0.71      0.73      1409\n",
      "\n",
      "F1 =  0.6175637393767706\n",
      "Log-loss 0.5451242877299874\n",
      "---Weight of 5 for Churned Customers---\n",
      "              precision    recall  f1-score   support\n",
      "\n",
      "           0       0.93      0.61      0.73      1021\n",
      "           1       0.46      0.88      0.60       388\n",
      "\n",
      "    accuracy                           0.68      1409\n",
      "   macro avg       0.69      0.74      0.67      1409\n",
      "weighted avg       0.80      0.68      0.70      1409\n",
      "\n",
      "F1 =  0.6037069726390115\n",
      "Log-loss 0.5927684827930501\n"
     ]
    }
   ],
   "source": [
    "for w in [2,3,4,5]:\n",
    "    print('---Weight of {} for Churned Customers---'.format(w))\n",
    "    lr_model = LogisticRegression(class_weight={0:1,1:w})\n",
    "    lr_model.fit(x_train,y_train)\n",
    "\n",
    "    lr_pred_wt = lr_model.predict(x_test)\n",
    "    lr_predprob_wt = lr_model.predict_proba(x_test)\n",
    "    print(classification_report(y_test,lr_pred_wt))\n",
    "    print(\"F1 = \", f1_score(y_test,lr_pred_wt))\n",
    "    print(\"Log-loss\", log_loss(y_test,lr_predprob_wt))"
   ]
  },
  {
   "cell_type": "code",
   "execution_count": null,
   "metadata": {},
   "outputs": [],
   "source": []
  }
 ],
 "metadata": {
  "kernelspec": {
   "display_name": "Python 3",
   "language": "python",
   "name": "python3"
  },
  "language_info": {
   "codemirror_mode": {
    "name": "ipython",
    "version": 3
   },
   "file_extension": ".py",
   "mimetype": "text/x-python",
   "name": "python",
   "nbconvert_exporter": "python",
   "pygments_lexer": "ipython3",
   "version": "3.6.4"
  }
 },
 "nbformat": 4,
 "nbformat_minor": 2
}
